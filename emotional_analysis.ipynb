{
 "cells": [
  {
   "cell_type": "code",
   "execution_count": 1,
   "metadata": {},
   "outputs": [
    {
     "name": "stderr",
     "output_type": "stream",
     "text": [
      "C:\\ProgramData\\Anaconda3\\lib\\site-packages\\tensorflow\\python\\framework\\dtypes.py:516: FutureWarning: Passing (type, 1) or '1type' as a synonym of type is deprecated; in a future version of numpy, it will be understood as (type, (1,)) / '(1,)type'.\n",
      "  _np_qint8 = np.dtype([(\"qint8\", np.int8, 1)])\n",
      "C:\\ProgramData\\Anaconda3\\lib\\site-packages\\tensorflow\\python\\framework\\dtypes.py:517: FutureWarning: Passing (type, 1) or '1type' as a synonym of type is deprecated; in a future version of numpy, it will be understood as (type, (1,)) / '(1,)type'.\n",
      "  _np_quint8 = np.dtype([(\"quint8\", np.uint8, 1)])\n",
      "C:\\ProgramData\\Anaconda3\\lib\\site-packages\\tensorflow\\python\\framework\\dtypes.py:518: FutureWarning: Passing (type, 1) or '1type' as a synonym of type is deprecated; in a future version of numpy, it will be understood as (type, (1,)) / '(1,)type'.\n",
      "  _np_qint16 = np.dtype([(\"qint16\", np.int16, 1)])\n",
      "C:\\ProgramData\\Anaconda3\\lib\\site-packages\\tensorflow\\python\\framework\\dtypes.py:519: FutureWarning: Passing (type, 1) or '1type' as a synonym of type is deprecated; in a future version of numpy, it will be understood as (type, (1,)) / '(1,)type'.\n",
      "  _np_quint16 = np.dtype([(\"quint16\", np.uint16, 1)])\n",
      "C:\\ProgramData\\Anaconda3\\lib\\site-packages\\tensorflow\\python\\framework\\dtypes.py:520: FutureWarning: Passing (type, 1) or '1type' as a synonym of type is deprecated; in a future version of numpy, it will be understood as (type, (1,)) / '(1,)type'.\n",
      "  _np_qint32 = np.dtype([(\"qint32\", np.int32, 1)])\n",
      "C:\\ProgramData\\Anaconda3\\lib\\site-packages\\tensorflow\\python\\framework\\dtypes.py:525: FutureWarning: Passing (type, 1) or '1type' as a synonym of type is deprecated; in a future version of numpy, it will be understood as (type, (1,)) / '(1,)type'.\n",
      "  np_resource = np.dtype([(\"resource\", np.ubyte, 1)])\n",
      "C:\\ProgramData\\Anaconda3\\lib\\site-packages\\tensorboard\\compat\\tensorflow_stub\\dtypes.py:541: FutureWarning: Passing (type, 1) or '1type' as a synonym of type is deprecated; in a future version of numpy, it will be understood as (type, (1,)) / '(1,)type'.\n",
      "  _np_qint8 = np.dtype([(\"qint8\", np.int8, 1)])\n",
      "C:\\ProgramData\\Anaconda3\\lib\\site-packages\\tensorboard\\compat\\tensorflow_stub\\dtypes.py:542: FutureWarning: Passing (type, 1) or '1type' as a synonym of type is deprecated; in a future version of numpy, it will be understood as (type, (1,)) / '(1,)type'.\n",
      "  _np_quint8 = np.dtype([(\"quint8\", np.uint8, 1)])\n",
      "C:\\ProgramData\\Anaconda3\\lib\\site-packages\\tensorboard\\compat\\tensorflow_stub\\dtypes.py:543: FutureWarning: Passing (type, 1) or '1type' as a synonym of type is deprecated; in a future version of numpy, it will be understood as (type, (1,)) / '(1,)type'.\n",
      "  _np_qint16 = np.dtype([(\"qint16\", np.int16, 1)])\n",
      "C:\\ProgramData\\Anaconda3\\lib\\site-packages\\tensorboard\\compat\\tensorflow_stub\\dtypes.py:544: FutureWarning: Passing (type, 1) or '1type' as a synonym of type is deprecated; in a future version of numpy, it will be understood as (type, (1,)) / '(1,)type'.\n",
      "  _np_quint16 = np.dtype([(\"quint16\", np.uint16, 1)])\n",
      "C:\\ProgramData\\Anaconda3\\lib\\site-packages\\tensorboard\\compat\\tensorflow_stub\\dtypes.py:545: FutureWarning: Passing (type, 1) or '1type' as a synonym of type is deprecated; in a future version of numpy, it will be understood as (type, (1,)) / '(1,)type'.\n",
      "  _np_qint32 = np.dtype([(\"qint32\", np.int32, 1)])\n",
      "C:\\ProgramData\\Anaconda3\\lib\\site-packages\\tensorboard\\compat\\tensorflow_stub\\dtypes.py:550: FutureWarning: Passing (type, 1) or '1type' as a synonym of type is deprecated; in a future version of numpy, it will be understood as (type, (1,)) / '(1,)type'.\n",
      "  np_resource = np.dtype([(\"resource\", np.ubyte, 1)])\n"
     ]
    }
   ],
   "source": [
    "import pandas as pd\n",
    "import numpy as np\n",
    "import scipy\n",
    "import sklearn\n",
    "import nltk\n",
    "import pickle\n",
    "from tensorflow import keras\n",
    "import tensorflow as tf\n",
    "from sklearn.preprocessing import OneHotEncoder"
   ]
  },
  {
   "cell_type": "code",
   "execution_count": 2,
   "metadata": {},
   "outputs": [
    {
     "name": "stdout",
     "output_type": "stream",
     "text": [
      "(40000, 2)\n",
      "['fun' 'worry' 'neutral' 'surprise' 'happiness' 'sadness' 'relief' 'love'\n",
      " 'boredom' 'hate' 'enthusiasm' 'anger' 'empty']\n"
     ]
    }
   ],
   "source": [
    "\n",
    "data = pd.read_csv(('twitter_dataset.csv'),encoding = \"ISO-8859-1\")\n",
    "print(data.shape)\n",
    "data.head()\n",
    "print(data['sentiment'].unique())"
   ]
  },
  {
   "cell_type": "code",
   "execution_count": 3,
   "metadata": {},
   "outputs": [
    {
     "name": "stdout",
     "output_type": "stream",
     "text": [
      "(32000, 2)\n",
      "                                                 content   sentiment\n",
      "29658  \" complete black books \" arrived . looking for...     neutral\n",
      "36382                                        oh hangover     neutral\n",
      "27039                              cheers defo give call     neutral\n",
      "39705                                       oh ok thanks  enthusiasm\n",
      "4520                happy star wars day =d hbd uncle lee   happiness\n"
     ]
    }
   ],
   "source": [
    "from sklearn.model_selection import train_test_split\n",
    "data = data.fillna(' ')\n",
    "train_data , test_data = train_test_split(data,test_size=0.20)\n",
    "print(train_data.shape)\n",
    "print(train_data.head())"
   ]
  },
  {
   "cell_type": "code",
   "execution_count": 4,
   "metadata": {},
   "outputs": [],
   "source": [
    "from sklearn.feature_extraction.text import CountVectorizer\n",
    "cv = CountVectorizer(token_pattern = r\"(?u)\\b\\w+\\b\")\n",
    "\n",
    "X_train = cv.fit_transform(data[\"content\"])\n",
    "encoded = cv.vocabulary_"
   ]
  },
  {
   "cell_type": "code",
   "execution_count": 5,
   "metadata": {},
   "outputs": [
    {
     "name": "stdout",
     "output_type": "stream",
     "text": [
      "                                             content  sentiment\n",
      "0  [28825, 1631, 26121, 5165, 12325, 19612, 18971...        fun\n",
      "1  [13501, 16486, 22961, 15401, 9103, 9103, 19612...      worry\n",
      "2  [30054, 27939, 19612, 26121, 12325, 9103, 3005...    neutral\n",
      "3  [21579, 9103, 1631, 15401, 15401, 30054, 5165,...   surprise\n",
      "4  [12325, 26121, 26121, 19612, 26121, 28825, 135...  happiness\n",
      "40000\n"
     ]
    }
   ],
   "source": [
    "data1 = data.copy()\n",
    "new_datacon=[]\n",
    "for i in data1['content']:\n",
    "  k=[]\n",
    "  for j in i:\n",
    "    try :\n",
    "      k.append(encoded[j])\n",
    "    except:\n",
    "      continue\n",
    "  new_datacon.append(k)\n",
    "data1['content']= new_datacon\n",
    "print(data1.head())\n",
    "print(len(data1['sentiment']))"
   ]
  },
  {
   "cell_type": "code",
   "execution_count": 6,
   "metadata": {},
   "outputs": [
    {
     "name": "stdout",
     "output_type": "stream",
     "text": [
      "['fun' 'worry' 'neutral' 'surprise' 'happiness' 'sadness' 'relief' 'love'\n",
      " 'boredom' 'hate' 'enthusiasm' 'anger' 'empty']\n"
     ]
    },
    {
     "name": "stderr",
     "output_type": "stream",
     "text": [
      "Using TensorFlow backend.\n"
     ]
    },
    {
     "name": "stdout",
     "output_type": "stream",
     "text": [
      "[[1. 0. 0. ... 0. 0. 0.]\n",
      " [0. 1. 0. ... 0. 0. 0.]\n",
      " [0. 0. 1. ... 0. 0. 0.]\n",
      " ...\n",
      " [0. 0. 0. ... 0. 0. 0.]\n",
      " [0. 0. 0. ... 0. 0. 0.]\n",
      " [0. 0. 0. ... 0. 0. 0.]]\n",
      "0        1.0\n",
      "1        0.0\n",
      "2        0.0\n",
      "3        0.0\n",
      "4        0.0\n",
      "        ... \n",
      "39995    0.0\n",
      "39996    0.0\n",
      "39997    0.0\n",
      "39998    0.0\n",
      "39999    0.0\n",
      "Name: sentiment, Length: 40000, dtype: float32\n"
     ]
    }
   ],
   "source": [
    "import numpy as np\n",
    "from keras.utils import to_categorical\n",
    "cats = data1['sentiment']\n",
    "### Universal list of colors\n",
    "total_cats = data['sentiment'].unique()\n",
    "\n",
    "print(total_cats)\n",
    "\n",
    "### map each color to an integer\n",
    "mapping = {}\n",
    "for x in range(len(total_cats)):\n",
    "  mapping[total_cats[x]] = x\n",
    "\n",
    "# integer representation\n",
    "for x in range(len(cats)):\n",
    "  cats[x] = mapping[cats[x]]\n",
    "\n",
    "onehotencoded = to_categorical(cats)\n",
    "print(onehotencoded)\n",
    "data1['sentiment'] = onehotencoded\n",
    "print(data1['sentiment'])"
   ]
  },
  {
   "cell_type": "code",
   "execution_count": 7,
   "metadata": {},
   "outputs": [
    {
     "name": "stdout",
     "output_type": "stream",
     "text": [
      "                                             content  sentiment\n",
      "0  [28825, 1631, 26121, 5165, 12325, 19612, 18971...        1.0\n",
      "1  [13501, 16486, 22961, 15401, 9103, 9103, 19612...        0.0\n",
      "2  [30054, 27939, 19612, 26121, 12325, 9103, 3005...        0.0\n",
      "3  [21579, 9103, 1631, 15401, 15401, 30054, 5165,...        0.0\n",
      "4  [12325, 26121, 26121, 19612, 26121, 28825, 135...        0.0\n"
     ]
    }
   ],
   "source": [
    "print(data1.head())"
   ]
  },
  {
   "cell_type": "code",
   "execution_count": 8,
   "metadata": {},
   "outputs": [
    {
     "name": "stdout",
     "output_type": "stream",
     "text": [
      "(32000, 2)\n",
      "                                                 content  sentiment\n",
      "15271  [12325, 1631, 26121, 9103, 15401, 13501, 10058...        0.0\n",
      "19414  [14820, 18201, 18971, 28825, 7582, 27939, 7582...        0.0\n",
      "35788  [5165, 12325, 9103, 5165, 14820, 9103, 7582, 1...        0.0\n",
      "11598  [9103, 28402, 9103, 21579, 30054, 18971, 18201...        1.0\n",
      "11552  [12325, 9103, 30054, 18201, 18971, 22961, 9103...        0.0\n"
     ]
    }
   ],
   "source": [
    "train_data1 , test_data1 = train_test_split(data1,test_size=0.20)\n",
    "print(train_data1.shape)\n",
    "print(train_data1.head())"
   ]
  },
  {
   "cell_type": "code",
   "execution_count": 9,
   "metadata": {},
   "outputs": [
    {
     "name": "stdout",
     "output_type": "stream",
     "text": [
      "                                                 content  sentiment\n",
      "15271  [12325, 1631, 26121, 9103, 15401, 13501, 10058...        0.0\n",
      "19414  [14820, 18201, 18971, 28825, 7582, 27939, 7582...        0.0\n",
      "35788  [5165, 12325, 9103, 5165, 14820, 9103, 7582, 1...        0.0\n",
      "11598  [9103, 28402, 9103, 21579, 30054, 18971, 18201...        1.0\n",
      "11552  [12325, 9103, 30054, 18201, 18971, 22961, 9103...        0.0\n"
     ]
    }
   ],
   "source": [
    "#encoder = OneHotEncoder(handle_unknown='ignore')\n",
    "#train_data1['sentiment']=(encoder.fit_transform(train_data1[['sentiment']]).toarray())\n",
    "print(train_data1.head())"
   ]
  },
  {
   "cell_type": "markdown",
   "metadata": {},
   "source": [
    "#Soumya Dip Mal"
   ]
  },
  {
   "cell_type": "code",
   "execution_count": 10,
   "metadata": {},
   "outputs": [
    {
     "name": "stdout",
     "output_type": "stream",
     "text": [
      "[28825, 1631, 26121, 5165, 12325, 19612, 18971, 13501, 18201, 26121, 12325, 7582, 22961, 26121, 1631, 5165, 9103, 1631, 15401, 22961, 18971, 28825, 1631, 18201, 26121, 22961, 22961, 9103, 9103, 12325, 7582, 28825, 1631, 13501, 26121, 13501, 18201, 11290]\n",
      "40000\n",
      "6896\n"
     ]
    }
   ],
   "source": [
    " print(new_datacon[0])\n",
    " print(len(new_datacon))\n",
    " print(encoded['content'])"
   ]
  },
  {
   "cell_type": "code",
   "execution_count": 11,
   "metadata": {},
   "outputs": [],
   "source": [
    "encoded = {k:(v+3) for k,v in encoded.items()}\n",
    "encoded[\"<PAD>\"]= 0\n",
    "encoded[\"<START>\"]= 1\n",
    "encoded[\"<UNK>\"] = 2\n",
    "encoded[\"<UNUSED>\"] = 3\n"
   ]
  },
  {
   "cell_type": "code",
   "execution_count": 12,
   "metadata": {},
   "outputs": [
    {
     "name": "stderr",
     "output_type": "stream",
     "text": [
      "C:\\ProgramData\\Anaconda3\\lib\\site-packages\\ipykernel_launcher.py:3: SettingWithCopyWarning: \n",
      "A value is trying to be set on a copy of a slice from a DataFrame.\n",
      "Try using .loc[row_indexer,col_indexer] = value instead\n",
      "\n",
      "See the caveats in the documentation: https://pandas.pydata.org/pandas-docs/stable/user_guide/indexing.html#returning-a-view-versus-a-copy\n",
      "  This is separate from the ipykernel package so we can avoid doing imports until\n"
     ]
    }
   ],
   "source": [
    "reverse_word_index = dict([(value,key) for key,value in encoded.items()])\n",
    "\n",
    "train_data1['content'] = keras.preprocessing.sequence.pad_sequences(train_data1['content'],value=encoded[\"<PAD>\"],padding=\"post\",maxlen=512)"
   ]
  },
  {
   "cell_type": "code",
   "execution_count": 13,
   "metadata": {},
   "outputs": [],
   "source": [
    "pickle.dump(cv.vocabulary_,open(\"feature.pk1\",\"wb\"))"
   ]
  },
  {
   "cell_type": "code",
   "execution_count": 14,
   "metadata": {},
   "outputs": [],
   "source": [
    "import keras\n",
    "from sklearn.preprocessing import LabelEncoder\n",
    "from keras.models import Sequential\n",
    "from keras.layers import Dense,Activation,Dropout,Conv1D,Flatten\n",
    "from keras.layers import Embedding\n",
    "\n",
    "\"\"\"Prediction class label encoding\n",
    "For the deep learning models we use the one-hot encoding to change the sentiment labels to numeric representations.\n",
    "\"\"\"\n",
    "\n",
    "le = LabelEncoder()\n",
    "num_classes=13 \n",
    "# encode train labels\n",
    "y_tr = le.fit_transform(train_data1[\"sentiment\"])\n",
    "y_train = keras.utils.to_categorical(y_tr, num_classes)\n",
    "# encode test labels\n",
    "y_ts = le.fit_transform(test_data1[\"sentiment\"])\n",
    "y_test = keras.utils.to_categorical(y_ts, num_classes)"
   ]
  },
  {
   "cell_type": "code",
   "execution_count": 15,
   "metadata": {},
   "outputs": [
    {
     "name": "stdout",
     "output_type": "stream",
     "text": [
      "WARNING:tensorflow:From C:\\ProgramData\\Anaconda3\\lib\\site-packages\\keras\\backend\\tensorflow_backend.py:74: The name tf.get_default_graph is deprecated. Please use tf.compat.v1.get_default_graph instead.\n",
      "\n",
      "WARNING:tensorflow:From C:\\ProgramData\\Anaconda3\\lib\\site-packages\\keras\\backend\\tensorflow_backend.py:517: The name tf.placeholder is deprecated. Please use tf.compat.v1.placeholder instead.\n",
      "\n",
      "WARNING:tensorflow:From C:\\ProgramData\\Anaconda3\\lib\\site-packages\\keras\\backend\\tensorflow_backend.py:4138: The name tf.random_uniform is deprecated. Please use tf.random.uniform instead.\n",
      "\n"
     ]
    }
   ],
   "source": [
    "model = keras.Sequential()\n",
    "model.add(keras.layers.Embedding(len(encoded),64))\n",
    "model.add(keras.layers.GlobalAveragePooling1D())\n",
    "model.add(keras.layers.Dense(128,activation=\"relu\"))\n",
    "model.add(keras.layers.Dense(1))"
   ]
  },
  {
   "cell_type": "code",
   "execution_count": 16,
   "metadata": {},
   "outputs": [
    {
     "name": "stdout",
     "output_type": "stream",
     "text": [
      "WARNING:tensorflow:From C:\\ProgramData\\Anaconda3\\lib\\site-packages\\keras\\optimizers.py:790: The name tf.train.Optimizer is deprecated. Please use tf.compat.v1.train.Optimizer instead.\n",
      "\n",
      "WARNING:tensorflow:From C:\\ProgramData\\Anaconda3\\lib\\site-packages\\keras\\backend\\tensorflow_backend.py:3376: The name tf.log is deprecated. Please use tf.math.log instead.\n",
      "\n",
      "WARNING:tensorflow:From C:\\ProgramData\\Anaconda3\\lib\\site-packages\\tensorflow\\python\\ops\\nn_impl.py:180: add_dispatch_support.<locals>.wrapper (from tensorflow.python.ops.array_ops) is deprecated and will be removed in a future version.\n",
      "Instructions for updating:\n",
      "Use tf.where in 2.0, which has the same broadcast rule as np.where\n"
     ]
    }
   ],
   "source": [
    "model.compile(optimizer=\"adam\",loss=\"binary_crossentropy\",metrics=[\"accuracy\"])"
   ]
  },
  {
   "cell_type": "code",
   "execution_count": 17,
   "metadata": {},
   "outputs": [
    {
     "name": "stdout",
     "output_type": "stream",
     "text": [
      "22000\n",
      "22000\n"
     ]
    }
   ],
   "source": [
    "x_val= train_data1['content'][:10000]\n",
    "x_train= train_data1['content'][10000:]\n",
    "\n",
    "y_val= train_data1['sentiment'][:10000]\n",
    "y_train= train_data1['sentiment'][10000:]\n",
    "\n",
    "#fitmodel = model.fit(x_train,y_train,epochs=40,batch_size=512,verbose=1)\n",
    "print(len(x_train))\n",
    "print(len(y_train))"
   ]
  },
  {
   "cell_type": "code",
   "execution_count": 18,
   "metadata": {},
   "outputs": [
    {
     "name": "stdout",
     "output_type": "stream",
     "text": [
      "WARNING:tensorflow:From C:\\ProgramData\\Anaconda3\\lib\\site-packages\\keras\\backend\\tensorflow_backend.py:986: The name tf.assign_add is deprecated. Please use tf.compat.v1.assign_add instead.\n",
      "\n",
      "Train on 22000 samples, validate on 10000 samples\n",
      "Epoch 1/40\n",
      "22000/22000 [==============================] - 3s 125us/step - loss: 0.1893 - acc: 0.9554 - val_loss: 0.1933 - val_acc: 0.9537\n",
      "Epoch 2/40\n",
      "22000/22000 [==============================] - 2s 93us/step - loss: 0.1826 - acc: 0.9554 - val_loss: 0.1926 - val_acc: 0.9537\n",
      "Epoch 3/40\n",
      "22000/22000 [==============================] - 2s 92us/step - loss: 0.1821 - acc: 0.9554 - val_loss: 0.1933 - val_acc: 0.9537\n",
      "Epoch 4/40\n",
      "22000/22000 [==============================] - 2s 94us/step - loss: 0.1817 - acc: 0.9554 - val_loss: 0.1928 - val_acc: 0.9537\n",
      "Epoch 5/40\n",
      "22000/22000 [==============================] - 2s 94us/step - loss: 0.1816 - acc: 0.9554 - val_loss: 0.1945 - val_acc: 0.9537\n",
      "Epoch 6/40\n",
      "22000/22000 [==============================] - 2s 94us/step - loss: 0.1818 - acc: 0.9554 - val_loss: 0.1946 - val_acc: 0.9537\n",
      "Epoch 7/40\n",
      "22000/22000 [==============================] - 2s 95us/step - loss: 0.1814 - acc: 0.9554 - val_loss: 0.1945 - val_acc: 0.9537\n",
      "Epoch 8/40\n",
      "22000/22000 [==============================] - 2s 94us/step - loss: 0.1817 - acc: 0.9554 - val_loss: 0.1923 - val_acc: 0.9537\n",
      "Epoch 9/40\n",
      "22000/22000 [==============================] - 2s 93us/step - loss: 0.1814 - acc: 0.9554 - val_loss: 0.1946 - val_acc: 0.9537\n",
      "Epoch 10/40\n",
      "22000/22000 [==============================] - 2s 93us/step - loss: 0.1820 - acc: 0.9554 - val_loss: 0.1940 - val_acc: 0.9537\n",
      "Epoch 11/40\n",
      "22000/22000 [==============================] - 2s 91us/step - loss: 0.1818 - acc: 0.9554 - val_loss: 0.1941 - val_acc: 0.9537\n",
      "Epoch 12/40\n",
      "22000/22000 [==============================] - 2s 92us/step - loss: 0.1816 - acc: 0.9554 - val_loss: 0.1947 - val_acc: 0.9537\n",
      "Epoch 13/40\n",
      "22000/22000 [==============================] - 2s 92us/step - loss: 0.1811 - acc: 0.9554 - val_loss: 0.1938 - val_acc: 0.9537\n",
      "Epoch 14/40\n",
      "22000/22000 [==============================] - 2s 91us/step - loss: 0.1812 - acc: 0.9554 - val_loss: 0.1933 - val_acc: 0.9537\n",
      "Epoch 15/40\n",
      "22000/22000 [==============================] - 2s 91us/step - loss: 0.1815 - acc: 0.9554 - val_loss: 0.1935 - val_acc: 0.9537\n",
      "Epoch 16/40\n",
      "22000/22000 [==============================] - 2s 92us/step - loss: 0.1813 - acc: 0.9554 - val_loss: 0.1939 - val_acc: 0.9537\n",
      "Epoch 17/40\n",
      "22000/22000 [==============================] - 2s 91us/step - loss: 0.1816 - acc: 0.9554 - val_loss: 0.1937 - val_acc: 0.9537\n",
      "Epoch 18/40\n",
      "22000/22000 [==============================] - 2s 91us/step - loss: 0.1815 - acc: 0.9554 - val_loss: 0.1938 - val_acc: 0.9537\n",
      "Epoch 19/40\n",
      "22000/22000 [==============================] - 2s 92us/step - loss: 0.1816 - acc: 0.9554 - val_loss: 0.1936 - val_acc: 0.9537\n",
      "Epoch 20/40\n",
      "22000/22000 [==============================] - 2s 93us/step - loss: 0.1815 - acc: 0.9554 - val_loss: 0.1934 - val_acc: 0.9537\n",
      "Epoch 21/40\n",
      "22000/22000 [==============================] - 2s 92us/step - loss: 0.1813 - acc: 0.9554 - val_loss: 0.1933 - val_acc: 0.9537\n",
      "Epoch 22/40\n",
      "22000/22000 [==============================] - 2s 92us/step - loss: 0.1813 - acc: 0.9554 - val_loss: 0.1950 - val_acc: 0.9537\n",
      "Epoch 23/40\n",
      "22000/22000 [==============================] - 2s 92us/step - loss: 0.1814 - acc: 0.9554 - val_loss: 0.1925 - val_acc: 0.9537\n",
      "Epoch 24/40\n",
      "22000/22000 [==============================] - 2s 92us/step - loss: 0.1814 - acc: 0.9554 - val_loss: 0.1934 - val_acc: 0.9537\n",
      "Epoch 25/40\n",
      "22000/22000 [==============================] - 2s 93us/step - loss: 0.1811 - acc: 0.9554 - val_loss: 0.1944 - val_acc: 0.9537\n",
      "Epoch 26/40\n",
      "22000/22000 [==============================] - 2s 91us/step - loss: 0.1813 - acc: 0.9554 - val_loss: 0.1933 - val_acc: 0.9537\n",
      "Epoch 27/40\n",
      "22000/22000 [==============================] - 2s 92us/step - loss: 0.1811 - acc: 0.9554 - val_loss: 0.1943 - val_acc: 0.9537\n",
      "Epoch 28/40\n",
      "22000/22000 [==============================] - 2s 94us/step - loss: 0.1812 - acc: 0.9554 - val_loss: 0.1935 - val_acc: 0.9537\n",
      "Epoch 29/40\n",
      "22000/22000 [==============================] - 2s 92us/step - loss: 0.1811 - acc: 0.9554 - val_loss: 0.1935 - val_acc: 0.9537\n",
      "Epoch 30/40\n",
      "22000/22000 [==============================] - 2s 92us/step - loss: 0.1811 - acc: 0.9554 - val_loss: 0.1933 - val_acc: 0.9537\n",
      "Epoch 31/40\n",
      "22000/22000 [==============================] - 2s 92us/step - loss: 0.1813 - acc: 0.9554 - val_loss: 0.1950 - val_acc: 0.9537\n",
      "Epoch 32/40\n",
      "22000/22000 [==============================] - 2s 92us/step - loss: 0.1811 - acc: 0.9554 - val_loss: 0.1936 - val_acc: 0.9537\n",
      "Epoch 33/40\n",
      "22000/22000 [==============================] - 2s 91us/step - loss: 0.1814 - acc: 0.9554 - val_loss: 0.1940 - val_acc: 0.9537\n",
      "Epoch 34/40\n",
      "22000/22000 [==============================] - 2s 91us/step - loss: 0.1813 - acc: 0.9554 - val_loss: 0.1936 - val_acc: 0.9537\n",
      "Epoch 35/40\n",
      "22000/22000 [==============================] - 2s 93us/step - loss: 0.1808 - acc: 0.9554 - val_loss: 0.1948 - val_acc: 0.9537\n",
      "Epoch 36/40\n",
      "22000/22000 [==============================] - 2s 92us/step - loss: 0.1812 - acc: 0.9554 - val_loss: 0.1940 - val_acc: 0.9537\n",
      "Epoch 37/40\n",
      "22000/22000 [==============================] - 2s 92us/step - loss: 0.1809 - acc: 0.9554 - val_loss: 0.1939 - val_acc: 0.9537\n",
      "Epoch 38/40\n",
      "22000/22000 [==============================] - 2s 92us/step - loss: 0.1810 - acc: 0.9554 - val_loss: 0.1934 - val_acc: 0.9537\n",
      "Epoch 39/40\n",
      "22000/22000 [==============================] - 2s 93us/step - loss: 0.1810 - acc: 0.9554 - val_loss: 0.1929 - val_acc: 0.9537\n",
      "Epoch 40/40\n",
      "22000/22000 [==============================] - 2s 92us/step - loss: 0.1814 - acc: 0.9554 - val_loss: 0.1935 - val_acc: 0.9537\n"
     ]
    },
    {
     "data": {
      "text/plain": [
       "<keras.callbacks.History at 0x20775aa4bc8>"
      ]
     },
     "execution_count": 18,
     "metadata": {},
     "output_type": "execute_result"
    }
   ],
   "source": [
    "model.fit(x_train,y_train,epochs=40,batch_size=512,validation_data=(x_val,y_val),verbose=1)"
   ]
  },
  {
   "cell_type": "code",
   "execution_count": 19,
   "metadata": {},
   "outputs": [],
   "source": [
    "y_pred=model.predict(x_val)"
   ]
  },
  {
   "cell_type": "code",
   "execution_count": 20,
   "metadata": {},
   "outputs": [],
   "source": [
    "model.save('final3.h5')"
   ]
  },
  {
   "cell_type": "code",
   "execution_count": 21,
   "metadata": {},
   "outputs": [
    {
     "data": {
      "text/plain": [
       "['mlr1.save']"
      ]
     },
     "execution_count": 21,
     "metadata": {},
     "output_type": "execute_result"
    }
   ],
   "source": [
    "from joblib import dump\n",
    "dump(model,\"mlr1.save\")"
   ]
  },
  {
   "cell_type": "code",
   "execution_count": null,
   "metadata": {},
   "outputs": [],
   "source": []
  },
  {
   "cell_type": "code",
   "execution_count": null,
   "metadata": {},
   "outputs": [],
   "source": []
  },
  {
   "cell_type": "code",
   "execution_count": null,
   "metadata": {},
   "outputs": [],
   "source": []
  },
  {
   "cell_type": "code",
   "execution_count": null,
   "metadata": {},
   "outputs": [],
   "source": []
  },
  {
   "cell_type": "code",
   "execution_count": null,
   "metadata": {},
   "outputs": [],
   "source": []
  },
  {
   "cell_type": "code",
   "execution_count": null,
   "metadata": {},
   "outputs": [],
   "source": []
  },
  {
   "cell_type": "code",
   "execution_count": null,
   "metadata": {},
   "outputs": [],
   "source": []
  },
  {
   "cell_type": "code",
   "execution_count": null,
   "metadata": {},
   "outputs": [],
   "source": []
  },
  {
   "cell_type": "code",
   "execution_count": null,
   "metadata": {},
   "outputs": [],
   "source": []
  },
  {
   "cell_type": "code",
   "execution_count": null,
   "metadata": {},
   "outputs": [],
   "source": []
  },
  {
   "cell_type": "code",
   "execution_count": null,
   "metadata": {},
   "outputs": [],
   "source": []
  },
  {
   "cell_type": "code",
   "execution_count": null,
   "metadata": {},
   "outputs": [],
   "source": []
  },
  {
   "cell_type": "code",
   "execution_count": null,
   "metadata": {},
   "outputs": [],
   "source": []
  },
  {
   "cell_type": "code",
   "execution_count": null,
   "metadata": {},
   "outputs": [],
   "source": []
  },
  {
   "cell_type": "code",
   "execution_count": null,
   "metadata": {},
   "outputs": [],
   "source": []
  },
  {
   "cell_type": "code",
   "execution_count": null,
   "metadata": {},
   "outputs": [],
   "source": [
    "\n",
    "\n"
   ]
  },
  {
   "cell_type": "code",
   "execution_count": null,
   "metadata": {},
   "outputs": [],
   "source": []
  },
  {
   "cell_type": "code",
   "execution_count": null,
   "metadata": {},
   "outputs": [],
   "source": []
  },
  {
   "cell_type": "code",
   "execution_count": null,
   "metadata": {},
   "outputs": [],
   "source": [
    "\n"
   ]
  },
  {
   "cell_type": "code",
   "execution_count": null,
   "metadata": {},
   "outputs": [],
   "source": []
  },
  {
   "cell_type": "code",
   "execution_count": null,
   "metadata": {},
   "outputs": [],
   "source": []
  },
  {
   "cell_type": "code",
   "execution_count": null,
   "metadata": {},
   "outputs": [],
   "source": [
    "\n"
   ]
  },
  {
   "cell_type": "code",
   "execution_count": null,
   "metadata": {},
   "outputs": [],
   "source": []
  },
  {
   "cell_type": "code",
   "execution_count": null,
   "metadata": {},
   "outputs": [],
   "source": []
  },
  {
   "cell_type": "code",
   "execution_count": null,
   "metadata": {},
   "outputs": [],
   "source": []
  },
  {
   "cell_type": "code",
   "execution_count": null,
   "metadata": {},
   "outputs": [],
   "source": []
  }
 ],
 "metadata": {
  "kernelspec": {
   "display_name": "Python 3",
   "language": "python",
   "name": "python3"
  },
  "language_info": {
   "codemirror_mode": {
    "name": "ipython",
    "version": 3
   },
   "file_extension": ".py",
   "mimetype": "text/x-python",
   "name": "python",
   "nbconvert_exporter": "python",
   "pygments_lexer": "ipython3",
   "version": "3.7.6"
  }
 },
 "nbformat": 4,
 "nbformat_minor": 4
}
